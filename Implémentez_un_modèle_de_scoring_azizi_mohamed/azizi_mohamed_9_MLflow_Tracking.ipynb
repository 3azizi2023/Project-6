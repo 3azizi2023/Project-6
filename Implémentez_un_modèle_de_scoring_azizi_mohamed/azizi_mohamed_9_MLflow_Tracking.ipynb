{
  "cells": [
    {
      "cell_type": "markdown",
      "metadata": {
        "id": "f415e53c"
      },
      "source": [
        "### Chargement des bibliothèques et des données"
      ],
      "id": "f415e53c"
    },
    {
      "cell_type": "code",
      "execution_count": 1,
      "metadata": {
        "id": "b8df74ab"
      },
      "outputs": [],
      "source": [
        "import pandas as pd\n",
        "import numpy as np\n",
        "import matplotlib.pyplot as plt\n",
        "import seaborn as sns\n",
        "import csv\n",
        "import json\n",
        "from sklearn.preprocessing import StandardScaler\n",
        "from scipy import stats\n",
        "from sklearn import metrics\n",
        "import warnings\n",
        "import datetime\n",
        "import time\n",
        "import re\n",
        "from sklearn.model_selection import train_test_split\n"
      ],
      "id": "b8df74ab"
    },
    {
      "cell_type": "code",
      "execution_count": 2,
      "metadata": {
        "colab": {
          "base_uri": "https://localhost:8080/"
        },
        "id": "u7fPlO_gB9Vj",
        "outputId": "f8797f20-b0f0-4fb5-9dc4-9ee4b56fec85"
      },
      "outputs": [
        {
          "output_type": "stream",
          "name": "stdout",
          "text": [
            "Mounted at /content/drive\n"
          ]
        }
      ],
      "source": [
        "# Monter Google Drive dans Google Colab pour y accéder\n",
        "from google.colab import drive\n",
        "drive.mount('/content/drive', force_remount=True)\n",
        "\n",
        "# Accéder au répertoire\n",
        "import os\n",
        "os.chdir('/content/drive/My Drive')\n"
      ],
      "id": "u7fPlO_gB9Vj"
    },
    {
      "cell_type": "code",
      "execution_count": 3,
      "metadata": {
        "id": "95c5deWEJhIx"
      },
      "outputs": [],
      "source": [
        "import mlflow\n",
        "import mlflow.sklearn\n",
        "import pandas as pd\n",
        "import joblib\n",
        "from sklearn.metrics import precision_score, recall_score, accuracy_score\n",
        "from sklearn.model_selection import train_test_split\n",
        "import shutil\n",
        "\n",
        "\n",
        "# Charger les données\n",
        "data_train = pd.read_csv('data_train.csv')\n",
        "\n",
        "# Supprimer la colonne 'TARGET'\n",
        "X = data_train.drop(columns=['TARGET'])\n",
        "\n",
        "# La variable y contiendra les valeurs de la colonne 'TARGET' du dataframe 'data_train'.\n",
        "y = data_train['TARGET']\n",
        "\n",
        "# Diviser les données en ensembles d'apprentissage et de test\n",
        "X_train, X_test, y_train, y_test = train_test_split(X, y, test_size=0.2, random_state=0)\n",
        "\n"
      ],
      "id": "95c5deWEJhIx"
    },
    {
      "cell_type": "code",
      "execution_count": 4,
      "metadata": {
        "colab": {
          "base_uri": "https://localhost:8080/"
        },
        "id": "9a86e157",
        "outputId": "d5fb5c78-31c9-4b4f-d016-834f6ff55e4c"
      },
      "outputs": [
        {
          "output_type": "stream",
          "name": "stdout",
          "text": [
            "Requirement already satisfied: catboost in /usr/local/lib/python3.10/dist-packages (1.2.1.1)\n",
            "Requirement already satisfied: graphviz in /usr/local/lib/python3.10/dist-packages (from catboost) (0.20.1)\n",
            "Requirement already satisfied: matplotlib in /usr/local/lib/python3.10/dist-packages (from catboost) (3.7.1)\n",
            "Requirement already satisfied: numpy>=1.16.0 in /usr/local/lib/python3.10/dist-packages (from catboost) (1.23.5)\n",
            "Requirement already satisfied: pandas>=0.24 in /usr/local/lib/python3.10/dist-packages (from catboost) (1.5.3)\n",
            "Requirement already satisfied: scipy in /usr/local/lib/python3.10/dist-packages (from catboost) (1.11.2)\n",
            "Requirement already satisfied: plotly in /usr/local/lib/python3.10/dist-packages (from catboost) (5.15.0)\n",
            "Requirement already satisfied: six in /usr/local/lib/python3.10/dist-packages (from catboost) (1.16.0)\n",
            "Requirement already satisfied: python-dateutil>=2.8.1 in /usr/local/lib/python3.10/dist-packages (from pandas>=0.24->catboost) (2.8.2)\n",
            "Requirement already satisfied: pytz>=2020.1 in /usr/local/lib/python3.10/dist-packages (from pandas>=0.24->catboost) (2023.3.post1)\n",
            "Requirement already satisfied: contourpy>=1.0.1 in /usr/local/lib/python3.10/dist-packages (from matplotlib->catboost) (1.1.0)\n",
            "Requirement already satisfied: cycler>=0.10 in /usr/local/lib/python3.10/dist-packages (from matplotlib->catboost) (0.11.0)\n",
            "Requirement already satisfied: fonttools>=4.22.0 in /usr/local/lib/python3.10/dist-packages (from matplotlib->catboost) (4.42.1)\n",
            "Requirement already satisfied: kiwisolver>=1.0.1 in /usr/local/lib/python3.10/dist-packages (from matplotlib->catboost) (1.4.5)\n",
            "Requirement already satisfied: packaging>=20.0 in /usr/local/lib/python3.10/dist-packages (from matplotlib->catboost) (23.1)\n",
            "Requirement already satisfied: pillow>=6.2.0 in /usr/local/lib/python3.10/dist-packages (from matplotlib->catboost) (9.4.0)\n",
            "Requirement already satisfied: pyparsing>=2.3.1 in /usr/local/lib/python3.10/dist-packages (from matplotlib->catboost) (3.1.1)\n",
            "Requirement already satisfied: tenacity>=6.2.0 in /usr/local/lib/python3.10/dist-packages (from plotly->catboost) (8.2.3)\n"
          ]
        }
      ],
      "source": [
        "!pip install catboost"
      ],
      "id": "9a86e157"
    },
    {
      "cell_type": "code",
      "execution_count": 5,
      "metadata": {
        "colab": {
          "base_uri": "https://localhost:8080/"
        },
        "id": "G9DfNkmDXWtV",
        "outputId": "4c6feb99-039a-476b-ea9c-6499a58efd54"
      },
      "outputs": [
        {
          "output_type": "stream",
          "name": "stdout",
          "text": [
            "Requirement already satisfied: mlflow in /usr/local/lib/python3.10/dist-packages (2.7.1)\n",
            "Requirement already satisfied: click<9,>=7.0 in /usr/local/lib/python3.10/dist-packages (from mlflow) (8.1.7)\n",
            "Requirement already satisfied: cloudpickle<3 in /usr/local/lib/python3.10/dist-packages (from mlflow) (2.2.1)\n",
            "Requirement already satisfied: databricks-cli<1,>=0.8.7 in /usr/local/lib/python3.10/dist-packages (from mlflow) (0.17.7)\n",
            "Requirement already satisfied: entrypoints<1 in /usr/local/lib/python3.10/dist-packages (from mlflow) (0.4)\n",
            "Requirement already satisfied: gitpython<4,>=2.1.0 in /usr/local/lib/python3.10/dist-packages (from mlflow) (3.1.36)\n",
            "Requirement already satisfied: pyyaml<7,>=5.1 in /usr/local/lib/python3.10/dist-packages (from mlflow) (6.0.1)\n",
            "Requirement already satisfied: protobuf<5,>=3.12.0 in /usr/local/lib/python3.10/dist-packages (from mlflow) (3.20.3)\n",
            "Requirement already satisfied: pytz<2024 in /usr/local/lib/python3.10/dist-packages (from mlflow) (2023.3.post1)\n",
            "Requirement already satisfied: requests<3,>=2.17.3 in /usr/local/lib/python3.10/dist-packages (from mlflow) (2.31.0)\n",
            "Requirement already satisfied: packaging<24 in /usr/local/lib/python3.10/dist-packages (from mlflow) (23.1)\n",
            "Requirement already satisfied: importlib-metadata!=4.7.0,<7,>=3.7.0 in /usr/local/lib/python3.10/dist-packages (from mlflow) (6.8.0)\n",
            "Requirement already satisfied: sqlparse<1,>=0.4.0 in /usr/local/lib/python3.10/dist-packages (from mlflow) (0.4.4)\n",
            "Requirement already satisfied: alembic!=1.10.0,<2 in /usr/local/lib/python3.10/dist-packages (from mlflow) (1.12.0)\n",
            "Requirement already satisfied: docker<7,>=4.0.0 in /usr/local/lib/python3.10/dist-packages (from mlflow) (6.1.3)\n",
            "Requirement already satisfied: Flask<3 in /usr/local/lib/python3.10/dist-packages (from mlflow) (2.2.5)\n",
            "Requirement already satisfied: numpy<2 in /usr/local/lib/python3.10/dist-packages (from mlflow) (1.23.5)\n",
            "Requirement already satisfied: scipy<2 in /usr/local/lib/python3.10/dist-packages (from mlflow) (1.11.2)\n",
            "Requirement already satisfied: pandas<3 in /usr/local/lib/python3.10/dist-packages (from mlflow) (1.5.3)\n",
            "Requirement already satisfied: querystring-parser<2 in /usr/local/lib/python3.10/dist-packages (from mlflow) (1.2.4)\n",
            "Requirement already satisfied: sqlalchemy<3,>=1.4.0 in /usr/local/lib/python3.10/dist-packages (from mlflow) (2.0.20)\n",
            "Requirement already satisfied: scikit-learn<2 in /usr/local/lib/python3.10/dist-packages (from mlflow) (1.2.2)\n",
            "Requirement already satisfied: pyarrow<14,>=4.0.0 in /usr/local/lib/python3.10/dist-packages (from mlflow) (9.0.0)\n",
            "Requirement already satisfied: markdown<4,>=3.3 in /usr/local/lib/python3.10/dist-packages (from mlflow) (3.4.4)\n",
            "Requirement already satisfied: matplotlib<4 in /usr/local/lib/python3.10/dist-packages (from mlflow) (3.7.1)\n",
            "Requirement already satisfied: gunicorn<22 in /usr/local/lib/python3.10/dist-packages (from mlflow) (21.2.0)\n",
            "Requirement already satisfied: Jinja2<4,>=2.11 in /usr/local/lib/python3.10/dist-packages (from mlflow) (3.1.2)\n",
            "Requirement already satisfied: Mako in /usr/local/lib/python3.10/dist-packages (from alembic!=1.10.0,<2->mlflow) (1.2.4)\n",
            "Requirement already satisfied: typing-extensions>=4 in /usr/local/lib/python3.10/dist-packages (from alembic!=1.10.0,<2->mlflow) (4.5.0)\n",
            "Requirement already satisfied: pyjwt>=1.7.0 in /usr/lib/python3/dist-packages (from databricks-cli<1,>=0.8.7->mlflow) (2.3.0)\n",
            "Requirement already satisfied: oauthlib>=3.1.0 in /usr/local/lib/python3.10/dist-packages (from databricks-cli<1,>=0.8.7->mlflow) (3.2.2)\n",
            "Requirement already satisfied: tabulate>=0.7.7 in /usr/local/lib/python3.10/dist-packages (from databricks-cli<1,>=0.8.7->mlflow) (0.9.0)\n",
            "Requirement already satisfied: six>=1.10.0 in /usr/local/lib/python3.10/dist-packages (from databricks-cli<1,>=0.8.7->mlflow) (1.16.0)\n",
            "Requirement already satisfied: urllib3<2.0.0,>=1.26.7 in /usr/local/lib/python3.10/dist-packages (from databricks-cli<1,>=0.8.7->mlflow) (1.26.16)\n",
            "Requirement already satisfied: websocket-client>=0.32.0 in /usr/local/lib/python3.10/dist-packages (from docker<7,>=4.0.0->mlflow) (1.6.2)\n",
            "Requirement already satisfied: Werkzeug>=2.2.2 in /usr/local/lib/python3.10/dist-packages (from Flask<3->mlflow) (2.3.7)\n",
            "Requirement already satisfied: itsdangerous>=2.0 in /usr/local/lib/python3.10/dist-packages (from Flask<3->mlflow) (2.1.2)\n",
            "Requirement already satisfied: gitdb<5,>=4.0.1 in /usr/local/lib/python3.10/dist-packages (from gitpython<4,>=2.1.0->mlflow) (4.0.10)\n",
            "Requirement already satisfied: zipp>=0.5 in /usr/local/lib/python3.10/dist-packages (from importlib-metadata!=4.7.0,<7,>=3.7.0->mlflow) (3.16.2)\n",
            "Requirement already satisfied: MarkupSafe>=2.0 in /usr/local/lib/python3.10/dist-packages (from Jinja2<4,>=2.11->mlflow) (2.1.3)\n",
            "Requirement already satisfied: contourpy>=1.0.1 in /usr/local/lib/python3.10/dist-packages (from matplotlib<4->mlflow) (1.1.0)\n",
            "Requirement already satisfied: cycler>=0.10 in /usr/local/lib/python3.10/dist-packages (from matplotlib<4->mlflow) (0.11.0)\n",
            "Requirement already satisfied: fonttools>=4.22.0 in /usr/local/lib/python3.10/dist-packages (from matplotlib<4->mlflow) (4.42.1)\n",
            "Requirement already satisfied: kiwisolver>=1.0.1 in /usr/local/lib/python3.10/dist-packages (from matplotlib<4->mlflow) (1.4.5)\n",
            "Requirement already satisfied: pillow>=6.2.0 in /usr/local/lib/python3.10/dist-packages (from matplotlib<4->mlflow) (9.4.0)\n",
            "Requirement already satisfied: pyparsing>=2.3.1 in /usr/local/lib/python3.10/dist-packages (from matplotlib<4->mlflow) (3.1.1)\n",
            "Requirement already satisfied: python-dateutil>=2.7 in /usr/local/lib/python3.10/dist-packages (from matplotlib<4->mlflow) (2.8.2)\n",
            "Requirement already satisfied: charset-normalizer<4,>=2 in /usr/local/lib/python3.10/dist-packages (from requests<3,>=2.17.3->mlflow) (3.2.0)\n",
            "Requirement already satisfied: idna<4,>=2.5 in /usr/local/lib/python3.10/dist-packages (from requests<3,>=2.17.3->mlflow) (3.4)\n",
            "Requirement already satisfied: certifi>=2017.4.17 in /usr/local/lib/python3.10/dist-packages (from requests<3,>=2.17.3->mlflow) (2023.7.22)\n",
            "Requirement already satisfied: joblib>=1.1.1 in /usr/local/lib/python3.10/dist-packages (from scikit-learn<2->mlflow) (1.3.2)\n",
            "Requirement already satisfied: threadpoolctl>=2.0.0 in /usr/local/lib/python3.10/dist-packages (from scikit-learn<2->mlflow) (3.2.0)\n",
            "Requirement already satisfied: greenlet!=0.4.17 in /usr/local/lib/python3.10/dist-packages (from sqlalchemy<3,>=1.4.0->mlflow) (2.0.2)\n",
            "Requirement already satisfied: smmap<6,>=3.0.1 in /usr/local/lib/python3.10/dist-packages (from gitdb<5,>=4.0.1->gitpython<4,>=2.1.0->mlflow) (5.0.1)\n"
          ]
        }
      ],
      "source": [
        "!pip install mlflow"
      ],
      "id": "G9DfNkmDXWtV"
    },
    {
      "cell_type": "markdown",
      "metadata": {
        "id": "veeFJ5xuieoP"
      },
      "source": [
        "## MLflow Tracking"
      ],
      "id": "veeFJ5xuieoP"
    },
    {
      "cell_type": "code",
      "source": [
        "!pip install lightgbm\n"
      ],
      "metadata": {
        "colab": {
          "base_uri": "https://localhost:8080/"
        },
        "id": "WGzupRDj0oCb",
        "outputId": "1efbc7c1-2d47-490a-f0e0-1faddaa70780"
      },
      "id": "WGzupRDj0oCb",
      "execution_count": 6,
      "outputs": [
        {
          "output_type": "stream",
          "name": "stdout",
          "text": [
            "Requirement already satisfied: lightgbm in /usr/local/lib/python3.10/dist-packages (4.0.0)\n",
            "Requirement already satisfied: numpy in /usr/local/lib/python3.10/dist-packages (from lightgbm) (1.23.5)\n",
            "Requirement already satisfied: scipy in /usr/local/lib/python3.10/dist-packages (from lightgbm) (1.11.2)\n"
          ]
        }
      ]
    },
    {
      "cell_type": "code",
      "source": [
        "from imblearn.under_sampling import RandomUnderSampler\n",
        "from sklearn.impute import SimpleImputer\n",
        "from imblearn.over_sampling import SMOTE\n",
        "from sklearn.metrics import roc_auc_score, accuracy_score, precision_score, recall_score, f1_score\n",
        "import mlflow\n",
        "import lightgbm as lgb\n",
        "from imblearn.pipeline import Pipeline\n",
        "\n",
        "# Créez le pipeline avec imputation, SMOTE et LGBMClassifier\n",
        "lgbm_pipeline = Pipeline(steps=[\n",
        "    ('imputer', SimpleImputer(strategy='mean', missing_values=np.nan)),\n",
        "    (\"undersampler\", RandomUnderSampler(sampling_strategy=0.2, random_state=0)),\n",
        "    (\"smote\", SMOTE(sampling_strategy=0.3, random_state=0)),\n",
        "    ('model', lgb.LGBMClassifier(random_state=42))\n",
        "])\n",
        "\n",
        "mlflow.set_experiment('lgbm_pipeline')\n",
        "\n",
        "with mlflow.start_run(run_name='lgbm_pipeline'):\n",
        "    clf = lgbm_pipeline\n",
        "    clf.fit(X_train, y_train)\n",
        "\n",
        "    # Prédisez les classes\n",
        "    y_pred = clf.predict(X_test)\n",
        "\n",
        "    # Calculez et enregistrez plusieurs métriques dans MLflow\n",
        "    auc_roc_score = roc_auc_score(y_test, y_pred)\n",
        "    accuracy = accuracy_score(y_test, y_pred)\n",
        "    precision = precision_score(y_test, y_pred)\n",
        "    recall = recall_score(y_test, y_pred)\n",
        "    f1 = f1_score(y_test, y_pred)\n",
        "\n",
        "    mlflow.log_metric('AUC-ROC Score', auc_roc_score)\n",
        "    mlflow.log_metric('Accuracy', accuracy)\n",
        "    mlflow.log_metric('Precision', precision)\n",
        "    mlflow.log_metric('Recall', recall)\n",
        "    mlflow.log_metric('F1 Score', f1)\n",
        "\n",
        "    # Enregistrez le modèle LightGBM directement avec MLflow\n",
        "    mlflow.lightgbm.log_model(clf, \"lgbm_model\")\n"
      ],
      "metadata": {
        "colab": {
          "base_uri": "https://localhost:8080/"
        },
        "id": "WhZhixKpcM-w",
        "outputId": "007b3ce1-1624-4f97-c9bf-66ed930f29ac"
      },
      "id": "WhZhixKpcM-w",
      "execution_count": 9,
      "outputs": [
        {
          "output_type": "stream",
          "name": "stderr",
          "text": [
            "2023/09/18 18:01:56 INFO mlflow.tracking.fluent: Experiment with name 'lgbm_pipeline' does not exist. Creating a new experiment.\n"
          ]
        },
        {
          "output_type": "stream",
          "name": "stdout",
          "text": [
            "[LightGBM] [Info] Number of positive: 29955, number of negative: 99850\n",
            "[LightGBM] [Warning] Auto-choosing col-wise multi-threading, the overhead of testing was 0.165892 seconds.\n",
            "You can set `force_col_wise=true` to remove the overhead.\n",
            "[LightGBM] [Info] Total Bins 16229\n",
            "[LightGBM] [Info] Number of data points in the train set: 129805, number of used features: 68\n",
            "[LightGBM] [Info] [binary:BoostFromScore]: pavg=0.230769 -> initscore=-1.203973\n",
            "[LightGBM] [Info] Start training from score -1.203973\n"
          ]
        },
        {
          "output_type": "stream",
          "name": "stderr",
          "text": [
            "/usr/local/lib/python3.10/dist-packages/_distutils_hack/__init__.py:33: UserWarning: Setuptools is replacing distutils.\n",
            "  warnings.warn(\"Setuptools is replacing distutils.\")\n"
          ]
        }
      ]
    },
    {
      "cell_type": "code",
      "source": [
        "from imblearn.under_sampling import RandomUnderSampler\n",
        "from sklearn.impute import SimpleImputer\n",
        "from imblearn.over_sampling import SMOTE\n",
        "from sklearn.metrics import roc_auc_score, accuracy_score, precision_score, recall_score, f1_score\n",
        "import mlflow\n",
        "import catboost\n",
        "import joblib\n",
        "from imblearn.pipeline import Pipeline  # Import correct\n",
        "\n",
        "\n",
        "# Créez le pipeline avec imputation, SMOTE et CatBoostClassifier\n",
        "catboost_pipeline = Pipeline(steps=[\n",
        "    ('imputer', SimpleImputer(strategy='mean', missing_values=np.nan)),\n",
        "    (\"undersampler\", RandomUnderSampler(sampling_strategy=0.2, random_state=0)),\n",
        "    (\"smote\", SMOTE(sampling_strategy=0.3, random_state=0)),\n",
        "    ('model', catboost.CatBoostClassifier(random_state=42, verbose=0))\n",
        "])\n",
        "\n",
        "mlflow.set_experiment('catboost_pipeline')\n",
        "\n",
        "with mlflow.start_run(run_name='catboost_pipeline'):\n",
        "    clf = catboost_pipeline\n",
        "    clf.fit(X_train, y_train)\n",
        "\n",
        "    # Prédisez les classes\n",
        "    y_pred = clf.predict(X_test)\n",
        "\n",
        "    # Calculez et enregistrez plusieurs métriques dans MLflow\n",
        "    auc_roc_score = roc_auc_score(y_test, y_pred)\n",
        "    accuracy = accuracy_score(y_test, y_pred)\n",
        "    precision = precision_score(y_test, y_pred)\n",
        "    recall = recall_score(y_test, y_pred)\n",
        "    f1 = f1_score(y_test, y_pred)\n",
        "\n",
        "    mlflow.log_metric('AUC-ROC Score', auc_roc_score)\n",
        "    mlflow.log_metric('Accuracy', accuracy)\n",
        "    mlflow.log_metric('Precision', precision)\n",
        "    mlflow.log_metric('Recall', recall)\n",
        "    mlflow.log_metric('F1 Score', f1)\n",
        "\n",
        "    # Enregistrez le modèle CatBoost avec joblib\n",
        "    joblib.dump(clf, \"catboost_model.pkl\")\n",
        "\n",
        "    # Chargez le modèle enregistré avec joblib dans MLflow\n",
        "    mlflow.pyfunc.log_model(\"catboost_model\", loader_module=\"joblib\", code_path=[\"catboost_model.pkl\"])\n"
      ],
      "metadata": {
        "colab": {
          "base_uri": "https://localhost:8080/"
        },
        "id": "muylcD8LcI1l",
        "outputId": "91b117ea-be23-4a88-d732-2a16f6d16789"
      },
      "id": "muylcD8LcI1l",
      "execution_count": 12,
      "outputs": [
        {
          "output_type": "stream",
          "name": "stderr",
          "text": [
            "2023/09/18 18:08:40 WARNING mlflow.utils.environment: Encountered an unexpected error while inferring pip requirements (model URI: /tmp/tmp8hohmxw_/model, flavor: python_function), fall back to return ['cloudpickle==2.2.1']. Set logging level to DEBUG to see the full traceback.\n"
          ]
        }
      ]
    },
    {
      "cell_type": "code",
      "source": [
        "pip install pyngrok"
      ],
      "metadata": {
        "colab": {
          "base_uri": "https://localhost:8080/"
        },
        "id": "S3YgbP3rwfJ7",
        "outputId": "b4c98188-72ec-48cb-ea30-1734965edc84"
      },
      "id": "S3YgbP3rwfJ7",
      "execution_count": 13,
      "outputs": [
        {
          "output_type": "stream",
          "name": "stdout",
          "text": [
            "Requirement already satisfied: pyngrok in /usr/local/lib/python3.10/dist-packages (6.1.0)\n",
            "Requirement already satisfied: PyYAML in /usr/local/lib/python3.10/dist-packages (from pyngrok) (6.0.1)\n"
          ]
        }
      ]
    },
    {
      "cell_type": "code",
      "source": [
        "from pyngrok import ngrok\n",
        "\n",
        "# Arrêter les tunnels NGROK existants s'il y en a\n",
        "ngrok.kill()\n",
        "\n",
        "# Définir le jeton d'authentification NGROK\n",
        "NGROK_AUTH_TOKEN = '2VBaEIaySsIF9xvwRzFEjPOm5MW_PWN3rHCf2T4BBaL2j1gx'\n",
        "ngrok.set_auth_token(NGROK_AUTH_TOKEN)\n",
        "\n",
        "# Ouvrir un tunnel HTTPS sur le port 5003 pour http://localhost:5000\n",
        "ngrok_tunnel = ngrok.connect(addr='5000', proto='http', bind_tls=True)\n",
        "\n",
        "# Imprimer l'URL publique du tunnel NGROK\n",
        "print(\"MLflow tracking UI:\", ngrok_tunnel.public_url)"
      ],
      "metadata": {
        "colab": {
          "base_uri": "https://localhost:8080/"
        },
        "id": "Q_-G2g4KSCBG",
        "outputId": "65f586ae-db8e-470c-eca4-5696ddb32cd2"
      },
      "id": "Q_-G2g4KSCBG",
      "execution_count": 14,
      "outputs": [
        {
          "output_type": "stream",
          "name": "stderr",
          "text": [
            "WARNING:pyngrok.process.ngrok:t=2023-09-18T18:09:00+0000 lvl=warn msg=\"ngrok config file found at legacy location, move to XDG location\" xdg_path=/root/.config/ngrok/ngrok.yml legacy_path=/root/.ngrok2/ngrok.yml\n"
          ]
        },
        {
          "output_type": "stream",
          "name": "stdout",
          "text": [
            "MLflow tracking UI: https://e390-35-245-156-126.ngrok-free.app\n"
          ]
        }
      ]
    },
    {
      "cell_type": "code",
      "source": [
        "!mlflow ui"
      ],
      "metadata": {
        "colab": {
          "base_uri": "https://localhost:8080/"
        },
        "id": "FzFuWo-WSlh-",
        "outputId": "02cb90c5-f347-45fe-d59a-e9682c324c02"
      },
      "id": "FzFuWo-WSlh-",
      "execution_count": 15,
      "outputs": [
        {
          "output_type": "stream",
          "name": "stdout",
          "text": [
            "[2023-09-18 18:09:20 +0000] [50439] [INFO] Starting gunicorn 21.2.0\n",
            "[2023-09-18 18:09:20 +0000] [50439] [INFO] Listening at: http://127.0.0.1:5000 (50439)\n",
            "[2023-09-18 18:09:20 +0000] [50439] [INFO] Using worker: sync\n",
            "[2023-09-18 18:09:20 +0000] [50444] [INFO] Booting worker with pid: 50444\n",
            "[2023-09-18 18:09:20 +0000] [50445] [INFO] Booting worker with pid: 50445\n",
            "[2023-09-18 18:09:20 +0000] [50446] [INFO] Booting worker with pid: 50446\n",
            "[2023-09-18 18:09:20 +0000] [50447] [INFO] Booting worker with pid: 50447\n",
            "[2023-09-18 18:42:49 +0000] [50439] [INFO] Handling signal: int\n",
            "\n",
            "Aborted!\n",
            "[2023-09-18 18:42:49 +0000] [50445] [INFO] Worker exiting (pid: 50445)\n",
            "[2023-09-18 18:42:49 +0000] [50444] [INFO] Worker exiting (pid: 50444)\n",
            "[2023-09-18 18:42:49 +0000] [50446] [INFO] Worker exiting (pid: 50446)\n",
            "[2023-09-18 18:42:49 +0000] [50447] [INFO] Worker exiting (pid: 50447)\n",
            "[2023-09-18 18:42:51 +0000] [50439] [INFO] Shutting down: Master\n"
          ]
        }
      ]
    }
  ],
  "metadata": {
    "colab": {
      "provenance": []
    },
    "kernelspec": {
      "display_name": "Python 3 (ipykernel)",
      "language": "python",
      "name": "python3"
    },
    "language_info": {
      "codemirror_mode": {
        "name": "ipython",
        "version": 3
      },
      "file_extension": ".py",
      "mimetype": "text/x-python",
      "name": "python",
      "nbconvert_exporter": "python",
      "pygments_lexer": "ipython3",
      "version": "3.9.13"
    }
  },
  "nbformat": 4,
  "nbformat_minor": 5
}